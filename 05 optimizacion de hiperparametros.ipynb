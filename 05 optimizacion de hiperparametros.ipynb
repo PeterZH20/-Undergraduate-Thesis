{
 "cells": [
  {
   "cell_type": "markdown",
   "id": "a479e336-8670-4461-bd92-b624ed2628aa",
   "metadata": {},
   "source": [
    "# **Optimización de parámetros para K-means**\n",
    "\n",
    "## *Objetivo:* Optimiza los hiperparámetros para mediante GridSearchCV, evaluando diferentes combinaciones de parámetros. La declaración de param_grid incluye un rango de valores para cada hiperparámetro, y el proceso prueba todas las combinaciones posibles usando validación cruzada (5 particiones) para seleccionar la mejor configuración. "
   ]
  },
  {
   "cell_type": "markdown",
   "id": "269ef398-e8f6-4384-81c3-c88123518895",
   "metadata": {},
   "source": [
    "### 1. Se cargan librerías y se declaran variables"
   ]
  },
  {
   "cell_type": "code",
   "execution_count": null,
   "id": "c99b47d0-ac74-46f2-93c4-d67c2742e5d9",
   "metadata": {},
   "outputs": [],
   "source": [
    "### Se cargan librerias ###\n",
    "from sklearn.cluster import KMeans\n",
    "from sklearn.model_selection import GridSearchCV\n",
    "import numpy as np\n",
    "import json\n",
    "\n",
    "### Se cargan los datos e\n",
    "X = np.load('datos/X.npy')"
   ]
  },
  {
   "cell_type": "markdown",
   "id": "6dcfe50b-d1a9-469b-8fa4-198293c4bd70",
   "metadata": {},
   "source": [
    "### 2. Se declaran los valores de los parámetros a iterar"
   ]
  },
  {
   "cell_type": "code",
   "execution_count": null,
   "id": "eb260113-c54a-4e13-92c0-c94225ca193b",
   "metadata": {},
   "outputs": [],
   "source": [
    "param_grid = {\n",
    "    'n_clusters': range(2, 31),\n",
    "    'init': ['k-means++', 'random'],\n",
    "    'n_init': [10,30,50],\n",
    "    'max_iter': [100, 200, 300],\n",
    "    'tol': [0.0001, 0.001, 0.01],\n",
    "    'algorithm': ['lloyd', 'elkan'],\n",
    "    'random_state': [0, 42, 84, 126]\n",
    "}"
   ]
  },
  {
   "cell_type": "markdown",
   "id": "67c914f4-e6aa-4b4b-a0dd-b664b200effa",
   "metadata": {},
   "source": [
    "### 3. Se llama al algoritmo K-means para iterar los parámetros y obtener el mejor resultado"
   ]
  },
  {
   "cell_type": "code",
   "execution_count": null,
   "id": "5df420fd-5912-4ba8-a36e-d616c635e8f4",
   "metadata": {},
   "outputs": [],
   "source": [
    "### Se crea el objeto K-Means ###\n",
    "kmeans = KMeans(random_state=42)\n",
    "\n",
    "### Se declara grid search ###\n",
    "grid_search = GridSearchCV(kmeans, param_grid=param_grid, cv=5, n_jobs=-1)\n",
    "\n",
    "### Se ajusta grid search con los datos entandarizados###\n",
    "grid_search.fit(X)\n",
    "\n",
    "### Se imprimen resultados ###\n",
    "#with open('datos/grid_search.json', 'w') as file:\n",
    "    #json.dump(grid_search.best_params_, file) #Descomentar lineas si es necesario\n",
    "print(\"Best hyperparameters: \", grid_search.best_params_)"
   ]
  },
  {
   "cell_type": "raw",
   "id": "d4469ccd-2556-4f41-80f5-c9d96d2fea17",
   "metadata": {},
   "source": [
    "Best hyperparameters:  {'algorithm': 'lloyd', 'init': 'random', 'max_iter': 100, 'n_clusters': 29, 'n_init': 10, 'random_state': 42, 'tol': 0.001}"
   ]
  }
 ],
 "metadata": {
  "kernelspec": {
   "display_name": "Python 3 (ipykernel)",
   "language": "python",
   "name": "python3"
  },
  "language_info": {
   "codemirror_mode": {
    "name": "ipython",
    "version": 3
   },
   "file_extension": ".py",
   "mimetype": "text/x-python",
   "name": "python",
   "nbconvert_exporter": "python",
   "pygments_lexer": "ipython3",
   "version": "3.11.5"
  }
 },
 "nbformat": 4,
 "nbformat_minor": 5
}
