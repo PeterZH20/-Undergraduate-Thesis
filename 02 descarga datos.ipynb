{
 "cells": [
  {
   "cell_type": "markdown",
   "id": "900b86ed-34b1-48bd-a61e-775ef9d22e71",
   "metadata": {},
   "source": [
    "# **Descarga de datos mediante la API de [The Materials Project](https://next-gen.materialsproject.org/)**\n",
    "\n",
    "## *Objetivo:* Itera sobre el archivo *ids.csv* generado por código anterior. Durante este proceso, se realizan los requests a la API de Materials Project para obtener toda la información necesaria por id y, posteriormente, se almacenan todos los datos en un DataFrame."
   ]
  },
  {
   "cell_type": "markdown",
   "id": "6a6cf8aa-7d7e-474f-937d-1b1b604e99d4",
   "metadata": {},
   "source": [
    "### 1. Se cargan librerías y se declaran variables"
   ]
  },
  {
   "cell_type": "code",
   "execution_count": null,
   "id": "116fb185-5571-441f-bb98-43bde5e97031",
   "metadata": {},
   "outputs": [],
   "source": [
    "### Se cargan librerias ###\n",
    "import matplotlib.pyplot as plt\n",
    "import pandas as pd\n",
    "import numpy as np\n",
    "from mp_api.client import MPRester\n",
    "key=\"ebMdddl0cG3BZj3VyN9qMb6Ilj4Dl6dz\"\n",
    "mpr = MPRester(key)"
   ]
  },
  {
   "cell_type": "markdown",
   "id": "9ea98436-4b2d-4ab4-a392-892f5b5d75ef",
   "metadata": {},
   "source": [
    "### 2. Se crea el Dataframe que fungirá como base de datos y se declaran las listas pertinentes"
   ]
  },
  {
   "cell_type": "code",
   "execution_count": null,
   "id": "23520284-b541-4a89-9b47-ae62a7058f86",
   "metadata": {},
   "outputs": [],
   "source": [
    "### Se crea DataFrame ###\n",
    "df=pd.DataFrame()\n",
    "\n",
    "### Se crean listas ###\n",
    "ids=[] #Lista para el ids\n",
    "formule=[] #Lista para la formula quimica\n",
    "NELE=[] #Lista para el numero total de elementos del compuesto\n",
    "ELE=[] #Lista para los elementos del compuesto\n",
    "BG=[] #Lista para el BandGap\n",
    "IBGD=[] #Lista para el tipo de BandGap\n",
    "IM=[] #Lista para saber si es metal\n",
    "SC=[] #Lista para el tipo de estructura cristalina\n",
    "a=[] #Lista para el parametro de red \"a\"\n",
    "b=[] #Lista para el parametro de red \"b\"\n",
    "c=[] #Lista para el parametro de red \"c\"\n",
    "alfa=[] #Lista para el parametro de red \"alpha\"\n",
    "beta=[] #Lista para el parametro de red \"beta\"\n",
    "gamma=[] #Lista para el parametro de red \"gamma\"\n",
    "CA=[] #Lista para el coeficiente de absorcion optica"
   ]
  },
  {
   "cell_type": "markdown",
   "id": "41cf0174-2d44-4573-98f2-e6624ac19d8b",
   "metadata": {},
   "source": [
    "### 3. Se realizan los requests mediante la API para descargar toda la información necesaria"
   ]
  },
  {
   "cell_type": "code",
   "execution_count": null,
   "id": "5e955341-e2ae-4b0e-9622-16e8972c2187",
   "metadata": {},
   "outputs": [],
   "source": [
    "### Se realiza requests ###\n",
    "with open('datos/ids.csv','r') as file:\n",
    "    for material in file:\n",
    "        material=str(material.strip())\n",
    "        ids.append(material)\n",
    "        \n",
    "        docs = mpr.summary.search(material_ids=[material])\n",
    "        IM.append(docs[0].is_metal)\n",
    "        formule.append(docs[0].formula_pretty)\n",
    "        SC.append(str(list(docs[0].symmetry)[0][-1]))\n",
    "        IBGD.append(docs[0].is_gap_direct)\n",
    "        NELE.append(docs[0].nelements)\n",
    "        ELE.append(docs[0].chemsys)\n",
    "        BG.append(docs[0].band_gap)\n",
    "        a.append(docs[0].structure.lattice.abc[0])\n",
    "        b.append(docs[0].structure.lattice.abc[1])\n",
    "        c.append(docs[0].structure.lattice.abc[2])\n",
    "        alfa.append(docs[0].structure.lattice.angles[0])\n",
    "        beta.append(docs[0].structure.lattice.angles[1])\n",
    "        gamma.append(docs[0].structure.lattice.angles[2])\n",
    "        \n",
    "        absorption = mpr.absorption.search(material_ids=[material], fields=[\"energies\", \"absorption_coefficient\"])\n",
    "        if len(absorption)==0:\n",
    "            CA.append(np.nan)\n",
    "        else:\n",
    "            absorption=absorption\n",
    "            energia=absorption[0].energies\n",
    "            absorcion=absorption[0].absorption_coefficient\n",
    "            x=np.array(absorption[0].energies)\n",
    "            y=np.array(absorption[0].absorption_coefficient)\n",
    "            CA.append(np.interp(2.479647809,x,y))"
   ]
  },
  {
   "cell_type": "markdown",
   "id": "3bfeddd3-889f-4f38-91f5-81dd8bd41485",
   "metadata": {},
   "source": [
    "### 4. Se unifican las listas para generar la base de datos"
   ]
  },
  {
   "cell_type": "code",
   "execution_count": null,
   "id": "b5377c31-7d29-42a0-a6a5-21f4ae828552",
   "metadata": {},
   "outputs": [],
   "source": [
    "### Se estructura columanàs del DataFrame ###\n",
    "df['id']=ids \n",
    "df['Formule']=formule\n",
    "df['No Ele']=NELE\n",
    "df['Ele']=ELE\n",
    "df['BG']=BG\n",
    "df['IM']=IM\n",
    "df['Is BG Dir']=IBGD\n",
    "df['Structure']=SC\n",
    "df['a']=a\n",
    "df['b']=b\n",
    "df['c']=c\n",
    "df['alfa']=alfa\n",
    "df['beta']=beta\n",
    "df['gamma']=gamma\n",
    "df['CA']=CA\n",
    "\n",
    "### Se exporta el DataFrame ###\n",
    "#df.to_csv('datos/datos_crudos.csv',index=False) #Descomentar línea si es necesario"
   ]
  }
 ],
 "metadata": {
  "kernelspec": {
   "display_name": "Python 3 (ipykernel)",
   "language": "python",
   "name": "python3"
  },
  "language_info": {
   "codemirror_mode": {
    "name": "ipython",
    "version": 3
   },
   "file_extension": ".py",
   "mimetype": "text/x-python",
   "name": "python",
   "nbconvert_exporter": "python",
   "pygments_lexer": "ipython3",
   "version": "3.11.5"
  }
 },
 "nbformat": 4,
 "nbformat_minor": 5
}
