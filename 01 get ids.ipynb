{
 "cells": [
  {
   "cell_type": "markdown",
   "id": "e2459b7a-ef2d-4b18-a0c6-b3aa480b0c6e",
   "metadata": {},
   "source": [
    "# **Obtención de los ids disponibles en [The Materials Project](https://next-gen.materialsproject.org/)**\n",
    "\n",
    "## *Objetivo:* Iterar sobre los ids desde cero hasta dos millones, accediendo a la base de datos de Materials Project para realizar un request y verificar si el id iterado existe. Si el id se encuentra en la base de datos, se registra en un archivo .csv para su posterior tratamiento; de lo contrario, se omite."
   ]
  },
  {
   "cell_type": "markdown",
   "id": "b6000d2c-410c-454b-8f8f-774a66a5e8b7",
   "metadata": {},
   "source": [
    "### 1. Se cargan librerías y se declaran variables"
   ]
  },
  {
   "cell_type": "code",
   "execution_count": null,
   "id": "3e835dc7-f99c-464e-b2ad-1a08f0893218",
   "metadata": {},
   "outputs": [],
   "source": [
    "### Se carga libreria m-api ###\n",
    "from mp_api.client import MPRester\n",
    "\n",
    "### Se declaran variables ###\n",
    "key=\"Inserta tu APIKEY aqui\"\n",
    "mpr = MPRester(key)"
   ]
  },
  {
   "cell_type": "markdown",
   "id": "5d6afcee-11cb-4cd9-9fba-02d1b0f7d66f",
   "metadata": {},
   "source": [
    "### 2. Se realiza request del id iterado"
   ]
  },
  {
   "cell_type": "code",
   "execution_count": null,
   "id": "5a4bbfc6-2518-4588-b455-a22dc8437a94",
   "metadata": {},
   "outputs": [],
   "source": [
    "### Se realiza iteracion ###\n",
    "with open('datos/ids.csv','w') as file:\n",
    "  for i in range(20):\n",
    "    docs = mpr.summary.search(material_ids=['mp-'+str(i)])\n",
    "    if len(docs)!=0:\n",
    "      file.write('mp-'+str(i)+'\\n')\n",
    "    i+=1\n",
    "print('FINISHED')"
   ]
  }
 ],
 "metadata": {
  "kernelspec": {
   "display_name": "Python 3 (ipykernel)",
   "language": "python",
   "name": "python3"
  },
  "language_info": {
   "codemirror_mode": {
    "name": "ipython",
    "version": 3
   },
   "file_extension": ".py",
   "mimetype": "text/x-python",
   "name": "python",
   "nbconvert_exporter": "python",
   "pygments_lexer": "ipython3",
   "version": "3.11.5"
  }
 },
 "nbformat": 4,
 "nbformat_minor": 5
}
