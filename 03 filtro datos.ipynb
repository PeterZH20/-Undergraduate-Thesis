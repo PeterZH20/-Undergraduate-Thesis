{
 "cells": [
  {
   "cell_type": "markdown",
   "id": "206b3e16-6eb4-466d-9f1e-e67c0c8e893e",
   "metadata": {},
   "source": [
    "# **Filtro de datos**\n",
    "\n",
    "## *Objetivo:* Aplica filtros utilizando máscaras en el DataFrame que contiene los datos crudos. Este proceso permite reducir el conjunto de datos a aquellos materiales que cumplen con las siguientes condiciones: su valor de IM es igual a cero, el coeficiente de absorción óptica (CA) no es nulo y el valor de band gap (BG) se encuentra entre 0.95 eV y 3 eV."
   ]
  },
  {
   "cell_type": "markdown",
   "id": "df58c2d3-3c65-45f0-823b-2af8a5b337be",
   "metadata": {},
   "source": [
    "### 1. Se cargan librerías y se declaran variables"
   ]
  },
  {
   "cell_type": "code",
   "execution_count": null,
   "id": "61b08e0c-a9cb-4f96-baa5-20a6da0fb2cf",
   "metadata": {},
   "outputs": [],
   "source": [
    "### Se carga libreria y se define###\n",
    "import pandas as pd\n",
    "file='datos/datos_crudos.csv'"
   ]
  },
  {
   "cell_type": "markdown",
   "id": "4214a56f-0a4a-422c-88ef-f125e7089470",
   "metadata": {},
   "source": [
    "### 2. Se realiza el filtrado aplicando máscaras en el DataFrame y se guardan los resultados"
   ]
  },
  {
   "cell_type": "code",
   "execution_count": null,
   "id": "583819cd-1de2-417b-9c45-67deb777bc94",
   "metadata": {},
   "outputs": [],
   "source": [
    "### Se realizan filtros individuales para testeo###\n",
    "df=pd.read_csv(file)\n",
    "df=df.set_index('id')\n",
    "print('Metales:',df[df['IM']==True].shape[0])\n",
    "print('Metales con CA:',df[df['IM']==True].dropna().shape[0])\n",
    "print('No Metales:',df[df['IM']==False].shape[0])\n",
    "print('No Metales con CA:',df[df['IM']==False].dropna().shape[0])\n",
    "print('No Metales con CA y 0.95eV< BG <3eV:',df[(df['IM']==False)&((df['BG']>=0.95)&(df['BG']<=3))].dropna().shape[0])\n",
    "print('Total de materiales:',\n",
    "      df[df['IM']==True].shape[0]+\n",
    "      df[df['IM']==False].shape[0])\n",
    "\n",
    "### Se realiza filtrado en conjunto y se guardan los datos ###\n",
    "df_clean=df[(df['IM']==False)&((df['BG']>=0.95)&(df['BG']<=3))].dropna()\n",
    "df_clean.head()\n",
    "#df_clean.to_csv('datos/datos_clean.csv', index=False) #Descomentar línea si es necesario"
   ]
  }
 ],
 "metadata": {
  "kernelspec": {
   "display_name": "Python 3 (ipykernel)",
   "language": "python",
   "name": "python3"
  },
  "language_info": {
   "codemirror_mode": {
    "name": "ipython",
    "version": 3
   },
   "file_extension": ".py",
   "mimetype": "text/x-python",
   "name": "python",
   "nbconvert_exporter": "python",
   "pygments_lexer": "ipython3",
   "version": "3.11.5"
  }
 },
 "nbformat": 4,
 "nbformat_minor": 5
}
