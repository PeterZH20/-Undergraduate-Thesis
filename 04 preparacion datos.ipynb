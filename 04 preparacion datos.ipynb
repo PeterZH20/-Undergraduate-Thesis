{
 "cells": [
  {
   "cell_type": "markdown",
   "id": "188dae8a-0736-4270-a6aa-8cc21efff314",
   "metadata": {},
   "source": [
    "# **Preparación de datos**\n",
    "\n",
    "## *Objetivo:* Realiza cambio de variable *str* a *int* para los valores Structure; elimina las columnas innecesarias del DataFrame y se estandarizan los datos de BG, Structure y CA."
   ]
  },
  {
   "cell_type": "markdown",
   "id": "22ef0e63-7240-463f-98ff-68be90c4b80f",
   "metadata": {},
   "source": [
    "### 1. Se cargan librerías y se declaran variables"
   ]
  },
  {
   "cell_type": "code",
   "execution_count": 1,
   "id": "7db9fcac-5f05-40b7-a13b-036bd253d538",
   "metadata": {},
   "outputs": [],
   "source": [
    "### Se importan librerías ###\n",
    "import pandas as pd\n",
    "from sklearn import preprocessing\n",
    "file='datos/datos_clean.csv'"
   ]
  },
  {
   "cell_type": "markdown",
   "id": "0a8d44e9-2089-4c81-b098-4aa8ff456098",
   "metadata": {},
   "source": [
    "### 2. Se realiza cambio de variable *str* a *int* para la variable Structure"
   ]
  },
  {
   "cell_type": "code",
   "execution_count": 2,
   "id": "958a9f20-d2ff-4135-843c-fadd5aa2fc3d",
   "metadata": {},
   "outputs": [],
   "source": [
    " ### Se realiza el cambio de varaible en Structure ###\n",
    "df = pd.read_csv(file)\n",
    "cambios={\n",
    "    'Trigonal':5,\n",
    "    'Cubic':1,\n",
    "    'Tetragonal':2,\n",
    "    'Hexagonal':4,\n",
    "    'Orthorhombic':3,\n",
    "    'Monoclinic':6\n",
    "}\n",
    "df_replace=df.replace(cambios)"
   ]
  },
  {
   "cell_type": "markdown",
   "id": "11a1d292-61a6-42ed-b34a-8a37229dc0e9",
   "metadata": {},
   "source": [
    "### 3. Se eliminan columnas innecesarias del DataFrame"
   ]
  },
  {
   "cell_type": "code",
   "execution_count": 3,
   "id": "64f842f4-3f04-41d9-a381-2e7a68ff3271",
   "metadata": {},
   "outputs": [],
   "source": [
    "### Se elimna columnas que no son de interes ###\n",
    "df_replace=df_replace.drop(columns=['id','No Ele','IM','Is BG Dir','a','b','c','alfa','beta','gamma'])\n",
    "df_replace.to_csv('datos/df_replace.csv', index=False)\n",
    "\n",
    "### Se seleccionan caracteristicas para llevar a cabo el agrupamiento ###\n",
    "features = ['BG','Structure','CA']"
   ]
  },
  {
   "cell_type": "markdown",
   "id": "135ddb3f-c1fa-4879-b097-02be8ccd4b93",
   "metadata": {},
   "source": [
    "### 4. Se realiza la estandarización de datos"
   ]
  },
  {
   "cell_type": "code",
   "execution_count": 4,
   "id": "a7479f52-c6b3-49f9-83aa-6ff401906da6",
   "metadata": {},
   "outputs": [],
   "source": [
    "### Se estandarizan los features ###\n",
    "df_standardized = preprocessing.scale(df_replace[features])\n",
    "X = df_standardized\n",
    "#np.save('datos/X.npy', X) #Descomentar línea si es necesario"
   ]
  }
 ],
 "metadata": {
  "kernelspec": {
   "display_name": "Python 3 (ipykernel)",
   "language": "python",
   "name": "python3"
  },
  "language_info": {
   "codemirror_mode": {
    "name": "ipython",
    "version": 3
   },
   "file_extension": ".py",
   "mimetype": "text/x-python",
   "name": "python",
   "nbconvert_exporter": "python",
   "pygments_lexer": "ipython3",
   "version": "3.11.5"
  }
 },
 "nbformat": 4,
 "nbformat_minor": 5
}
